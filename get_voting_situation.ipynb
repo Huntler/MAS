{
 "cells": [
  {
   "cell_type": "markdown",
   "metadata": {},
   "source": [
    "# This file contains a function to create a voting sitation"
   ]
  },
  {
   "cell_type": "markdown",
   "metadata": {},
   "source": [
    "***"
   ]
  },
  {
   "cell_type": "markdown",
   "metadata": {
    "jp-MarkdownHeadingCollapsed": true,
    "tags": []
   },
   "source": [
    "## Preparations"
   ]
  },
  {
   "cell_type": "code",
   "execution_count": 1,
   "metadata": {},
   "outputs": [],
   "source": [
    "import random"
   ]
  },
  {
   "cell_type": "markdown",
   "metadata": {},
   "source": [
    "get_voting_situation:"
   ]
  },
  {
   "cell_type": "code",
   "execution_count": 2,
   "metadata": {},
   "outputs": [],
   "source": [
    "def get_voting_situation(number_voters, number_candidates):\n",
    "    candidates = number_candidates\n",
    "    voters = number_voters\n",
    "    votings = []\n",
    "\n",
    "    votings_template_list = []\n",
    "    for i in range(0, voters):\n",
    "        votings_template_list.append([])\n",
    "        for j in range(0, candidates):\n",
    "            votings_template_list[i].append(j+1)\n",
    "            \n",
    "    for i in range(0, voters):\n",
    "        votings.append([])\n",
    "        for j in range(0, candidates):\n",
    "            temp_len = len(votings_template_list[i])\n",
    "            random_index = random.randint(0,temp_len-1)\n",
    "            votings[i].append(votings_template_list[i].pop(random_index))\n",
    "    return votings"
   ]
  }
 ],
 "metadata": {
  "interpreter": {
   "hash": "b6670665619bd644eaf1755dad0b3377e8027ce8c5e759f9489e30198297d070"
  },
  "kernelspec": {
   "display_name": "Python 3 (ipykernel)",
   "language": "python",
   "name": "python3"
  },
  "language_info": {
   "codemirror_mode": {
    "name": "ipython",
    "version": 3
   },
   "file_extension": ".py",
   "mimetype": "text/x-python",
   "name": "python",
   "nbconvert_exporter": "python",
   "pygments_lexer": "ipython3",
   "version": "3.9.7"
  }
 },
 "nbformat": 4,
 "nbformat_minor": 4
}
