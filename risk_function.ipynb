{
 "cells": [
  {
   "cell_type": "markdown",
   "metadata": {},
   "source": [
    "# How to calculate Risk\n",
    "We also created a function used to estimate the risk of a certain strategic voting an agent might consider to use instead of its honest preferences."
   ]
  },
  {
   "cell_type": "markdown",
   "metadata": {},
   "source": [
    "***"
   ]
  },
  {
   "cell_type": "markdown",
   "metadata": {},
   "source": [
    "## Preparations"
   ]
  },
  {
   "cell_type": "code",
   "execution_count": 1,
   "metadata": {},
   "outputs": [],
   "source": [
    "import numpy as np"
   ]
  },
  {
   "cell_type": "markdown",
   "metadata": {},
   "source": [
    "***"
   ]
  },
  {
   "cell_type": "markdown",
   "metadata": {},
   "source": [
    "## Example"
   ]
  },
  {
   "cell_type": "code",
   "execution_count": 3,
   "metadata": {},
   "outputs": [],
   "source": [
    "honest_vote = np.array([\"A\",\"B\",\"C\",\"D\",\"E\"])\n",
    "estimated_opponent_votes = np.array([\n",
    "    [\"B\",\"A\",\"C\",\"D\",\"E\"],\n",
    "    [\"C\",\"B\",\"A\",\"D\",\"E\"],\n",
    "    [\"D\",\"B\",\"C\",\"A\",\"E\"],\n",
    "    [\"E\",\"B\",\"C\",\"D\",\"A\"]\n",
    "])\n",
    "\n",
    "strategic_vote = np.array([\"B\",\"A\",\"C\",\"D\",\"E\"])"
   ]
  },
  {
   "cell_type": "markdown",
   "metadata": {},
   "source": [
    "***"
   ]
  },
  {
   "cell_type": "code",
   "execution_count": 49,
   "metadata": {},
   "outputs": [],
   "source": [
    "def get_result (votings):\n",
    "    cs = []\n",
    "    for candidate in votings[0]:\n",
    "        cs.append(str(candidate))\n",
    "    candidates = np.array(cs)\n",
    "    countings = np.zeros(len(votings[0]))\n",
    "    for vote in votings:\n",
    "        score = len(votings[0])\n",
    "        for rank in vote:\n",
    "            index = 0\n",
    "            for candidate in candidates:\n",
    "                if(rank == candidate):\n",
    "                    countings[index] += score\n",
    "                    break\n",
    "                index += 1\n",
    "            score -= 1\n",
    "    result = list(zip(candidates,countings))\n",
    "    result.sort(key=lambda x:x[1], reverse = True)\n",
    "    print(result)\n",
    "    return [x for (x,y) in result]"
   ]
  },
  {
   "cell_type": "code",
   "execution_count": 50,
   "metadata": {},
   "outputs": [
    {
     "name": "stdout",
     "output_type": "stream",
     "text": [
      "[['B' 'A' 'C' 'D' 'E']\n",
      " ['C' 'B' 'A' 'D' 'E']\n",
      " ['D' 'B' 'C' 'A' 'E']\n",
      " ['E' 'B' 'C' 'D' 'A']\n",
      " ['A' 'B' 'C' 'D' 'E']]\n",
      "[('B', 21.0), ('C', 17.0), ('A', 15.0), ('D', 13.0), ('E', 9.0)]\n",
      "['B', 'C', 'A', 'D', 'E']\n"
     ]
    }
   ],
   "source": [
    "all_votes = np.concatenate((estimated_opponent_votes,honest_vote.reshape((1,5))),axis=0)\n",
    "print(all_votes)\n",
    "print(get_result(all_votes))"
   ]
  },
  {
   "cell_type": "code",
   "execution_count": null,
   "metadata": {},
   "outputs": [],
   "source": [
    "def get_risk (strategic_vote : np.array, honest_vote : np.array, estimated_honest_outcome : np.array, estimated_opponent_votes : np.array):\n",
    "    "
   ]
  }
 ],
 "metadata": {
  "interpreter": {
   "hash": "b6670665619bd644eaf1755dad0b3377e8027ce8c5e759f9489e30198297d070"
  },
  "kernelspec": {
   "display_name": "Python 3.9.7 64-bit (windows store)",
   "name": "python3"
  },
  "language_info": {
   "codemirror_mode": {
    "name": "ipython",
    "version": 3
   },
   "file_extension": ".py",
   "mimetype": "text/x-python",
   "name": "python",
   "nbconvert_exporter": "python",
   "pygments_lexer": "ipython3",
   "version": "3.9.7"
  },
  "orig_nbformat": 4
 },
 "nbformat": 4,
 "nbformat_minor": 2
}
