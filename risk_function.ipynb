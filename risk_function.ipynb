{
 "cells": [
  {
   "cell_type": "markdown",
   "metadata": {},
   "source": [
    "# How to calculate Risk\n",
    "We also created a function used to estimate the risk of a certain strategic voting an agent might consider to use instead of its honest preferences."
   ]
  },
  {
   "cell_type": "markdown",
   "metadata": {},
   "source": [
    "***"
   ]
  },
  {
   "cell_type": "markdown",
   "metadata": {},
   "source": [
    "## Preparations"
   ]
  },
  {
   "cell_type": "code",
   "execution_count": 7,
   "metadata": {},
   "outputs": [],
   "source": [
    "import numpy as np"
   ]
  },
  {
   "cell_type": "markdown",
   "metadata": {},
   "source": [
    "***"
   ]
  },
  {
   "cell_type": "markdown",
   "metadata": {},
   "source": [
    "## Example"
   ]
  },
  {
   "cell_type": "code",
   "execution_count": 8,
   "metadata": {},
   "outputs": [],
   "source": [
    "honest_vote = np.array([\"A\",\"B\",\"C\",\"D\",\"E\"])\n",
    "estimated_opponent_votes = np.array([\n",
    "    [\"B\",\"A\",\"C\",\"D\",\"E\"],\n",
    "    [\"C\",\"B\",\"A\",\"D\",\"E\"],\n",
    "    [\"D\",\"B\",\"C\",\"A\",\"E\"],\n",
    "    [\"E\",\"B\",\"C\",\"D\",\"A\"]\n",
    "])"
   ]
  },
  {
   "cell_type": "markdown",
   "metadata": {},
   "source": [
    "***"
   ]
  },
  {
   "cell_type": "markdown",
   "metadata": {},
   "source": [
    "## Functions"
   ]
  },
  {
   "cell_type": "markdown",
   "metadata": {},
   "source": [
    "### 1. calculate the result of a vote"
   ]
  },
  {
   "cell_type": "markdown",
   "metadata": {},
   "source": [
    "Method:"
   ]
  },
  {
   "cell_type": "code",
   "execution_count": 11,
   "metadata": {},
   "outputs": [],
   "source": [
    "def get_result (votings):\n",
    "    cs = []\n",
    "    for candidate in votings[0]:\n",
    "        cs.append(str(candidate))\n",
    "    candidates = np.array(cs)\n",
    "    countings = np.zeros(len(votings[0]))\n",
    "    for vote in votings:\n",
    "        score = len(votings[0])\n",
    "        for rank in vote:\n",
    "            index = 0\n",
    "            for candidate in candidates:\n",
    "                if(rank == candidate):\n",
    "                    countings[index] += score\n",
    "                    break\n",
    "                index += 1\n",
    "            score -= 1\n",
    "    result = list(zip(candidates,countings))\n",
    "    result.sort(key=lambda x:x[1], reverse = True)\n",
    "    return [x for (x,y) in result]"
   ]
  },
  {
   "cell_type": "markdown",
   "metadata": {},
   "source": [
    "Test:"
   ]
  },
  {
   "cell_type": "code",
   "execution_count": 12,
   "metadata": {},
   "outputs": [
    {
     "name": "stdout",
     "output_type": "stream",
     "text": [
      "[['B' 'A' 'C' 'D' 'E']\n",
      " ['C' 'B' 'A' 'D' 'E']\n",
      " ['D' 'B' 'C' 'A' 'E']\n",
      " ['E' 'B' 'C' 'D' 'A']\n",
      " ['A' 'B' 'C' 'D' 'E']]\n",
      "['B', 'C', 'A', 'D', 'E']\n"
     ]
    }
   ],
   "source": [
    "all_votes = np.concatenate((estimated_opponent_votes,honest_vote.reshape((1,5))),axis=0)\n",
    "estimated_honest_result = get_result(all_votes)\n",
    "print(all_votes)\n",
    "print(estimated_honest_result)"
   ]
  },
  {
   "cell_type": "markdown",
   "metadata": {},
   "source": [
    "### 2. calculate a strategic vote"
   ]
  },
  {
   "cell_type": "markdown",
   "metadata": {},
   "source": [
    "Method:"
   ]
  },
  {
   "cell_type": "code",
   "execution_count": null,
   "metadata": {},
   "outputs": [],
   "source": []
  },
  {
   "cell_type": "markdown",
   "metadata": {},
   "source": [
    "Test:"
   ]
  },
  {
   "cell_type": "code",
   "execution_count": 13,
   "metadata": {},
   "outputs": [],
   "source": [
    "strategic_vote = np.array([\"B\",\"A\",\"C\",\"D\",\"E\"])"
   ]
  },
  {
   "cell_type": "markdown",
   "metadata": {},
   "source": [
    "### 3. calculate the risk of a strategic vote"
   ]
  },
  {
   "cell_type": "markdown",
   "metadata": {},
   "source": [
    "Method:"
   ]
  },
  {
   "cell_type": "code",
   "execution_count": 14,
   "metadata": {},
   "outputs": [],
   "source": [
    "def get_risk (strategic_vote : np.array, honest_vote : np.array, estimated_honest_outcome : np.array, estimated_opponent_votes : np.array):\n",
    "    return 0   "
   ]
  },
  {
   "cell_type": "markdown",
   "metadata": {},
   "source": [
    "Test:"
   ]
  },
  {
   "cell_type": "code",
   "execution_count": 15,
   "metadata": {},
   "outputs": [
    {
     "name": "stdout",
     "output_type": "stream",
     "text": [
      "0\n"
     ]
    }
   ],
   "source": [
    "print(get_risk(strategic_vote,honest_vote,estimated_honest_result,estimated_opponent_votes))"
   ]
  }
 ],
 "metadata": {
  "interpreter": {
   "hash": "b6670665619bd644eaf1755dad0b3377e8027ce8c5e759f9489e30198297d070"
  },
  "kernelspec": {
   "display_name": "Python 3.9.7 64-bit (windows store)",
   "name": "python3"
  },
  "language_info": {
   "codemirror_mode": {
    "name": "ipython",
    "version": 3
   },
   "file_extension": ".py",
   "mimetype": "text/x-python",
   "name": "python",
   "nbconvert_exporter": "python",
   "pygments_lexer": "ipython3",
   "version": "3.9.7"
  },
  "orig_nbformat": 4
 },
 "nbformat": 4,
 "nbformat_minor": 2
}
