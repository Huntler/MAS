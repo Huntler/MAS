{
 "cells": [
  {
   "cell_type": "markdown",
   "metadata": {},
   "source": [
    "# How to calculate Risk\n",
    "We also created a function used to estimate the risk of a certain strategic voting an agent might consider to use instead of its honest preferences."
   ]
  },
  {
   "cell_type": "markdown",
   "metadata": {},
   "source": [
    "***"
   ]
  },
  {
   "cell_type": "markdown",
   "metadata": {},
   "source": [
    "## Preparations"
   ]
  },
  {
   "cell_type": "code",
   "execution_count": 17,
   "metadata": {},
   "outputs": [],
   "source": [
    "import numpy as np"
   ]
  },
  {
   "cell_type": "markdown",
   "metadata": {},
   "source": [
    "Happiness function:"
   ]
  },
  {
   "cell_type": "code",
   "execution_count": 19,
   "metadata": {},
   "outputs": [],
   "source": [
    "# i = outcome; j = voted; s = discount\n",
    "\n",
    "def func(i: np.array, j: np.array, s: float=0.9) -> float:\n",
    "    m = len(i)\n",
    "    s1 = np.power([s for l in range(m)], np.power(range(m), 2))\n",
    "    s2 = np.power([s for l in range(m)], np.power(m - np.array(range(m)), 2))\n",
    "    d = np.abs(j - i)\n",
    "    h_hat = np.sum(d * (s1 + s2)) / m\n",
    "    return np.exp(-h_hat)"
   ]
  },
  {
   "cell_type": "markdown",
   "metadata": {},
   "source": [
    "Functions needed to use the happiness function:"
   ]
  },
  {
   "cell_type": "code",
   "execution_count": 29,
   "metadata": {},
   "outputs": [],
   "source": [
    "def translate_to_int_array(ranking, mapping):\n",
    "    numbers = []\n",
    "    for element in ranking:\n",
    "        index = 1\n",
    "        for m in mapping:\n",
    "            if(element == m):\n",
    "                numbers.append(index)\n",
    "                break\n",
    "            index += 1\n",
    "    return np.asarray(numbers)\n",
    "\n",
    "def translate_to_content_array(ranking, mapping):\n",
    "    values = []\n",
    "    for element in ranking:\n",
    "        values.append(mapping[element-1])\n",
    "    return np.asarray(values)"
   ]
  },
  {
   "cell_type": "code",
   "execution_count": 31,
   "metadata": {},
   "outputs": [
    {
     "name": "stdout",
     "output_type": "stream",
     "text": [
      "vote (values):  ['A' 'B' 'C' 'D' 'E']\n",
      "vote (int):  [1 2 3 4 5]\n",
      "outcome (int):  [3 2 1 4 5]\n",
      "outcome (values):  ['C' 'B' 'A' 'D' 'E']\n"
     ]
    }
   ],
   "source": [
    "vote = np.array([\"A\",\"B\",\"C\",\"D\",\"E\"])\n",
    "outcome = np.array([3,2,1,4,5])\n",
    "vote_numbers = translate_to_int_array(vote,vote)\n",
    "outcome_content = translate_to_content_array(outcome,vote)\n",
    "\n",
    "print(\"vote (values): \", vote)\n",
    "print(\"vote (int): \", vote_numbers)\n",
    "print(\"outcome (int): \", outcome)\n",
    "print(\"outcome (values): \", outcome_content)"
   ]
  },
  {
   "cell_type": "markdown",
   "metadata": {},
   "source": [
    "***"
   ]
  },
  {
   "cell_type": "markdown",
   "metadata": {},
   "source": [
    "## Example"
   ]
  },
  {
   "cell_type": "code",
   "execution_count": 8,
   "metadata": {},
   "outputs": [],
   "source": [
    "honest_vote = np.array([\"A\",\"B\",\"C\",\"D\",\"E\"])\n",
    "estimated_opponent_votes = np.array([\n",
    "    [\"B\",\"A\",\"C\",\"D\",\"E\"],\n",
    "    [\"C\",\"B\",\"A\",\"D\",\"E\"],\n",
    "    [\"D\",\"B\",\"C\",\"A\",\"E\"],\n",
    "    [\"E\",\"B\",\"C\",\"D\",\"A\"]\n",
    "])"
   ]
  },
  {
   "cell_type": "markdown",
   "metadata": {},
   "source": [
    "***"
   ]
  },
  {
   "cell_type": "markdown",
   "metadata": {},
   "source": [
    "## Functions"
   ]
  },
  {
   "cell_type": "markdown",
   "metadata": {},
   "source": [
    "### 1. calculate the result of a vote"
   ]
  },
  {
   "cell_type": "markdown",
   "metadata": {},
   "source": [
    "Method:"
   ]
  },
  {
   "cell_type": "code",
   "execution_count": 11,
   "metadata": {},
   "outputs": [],
   "source": [
    "def get_result (votings):\n",
    "    cs = []\n",
    "    for candidate in votings[0]:\n",
    "        cs.append(str(candidate))\n",
    "    candidates = np.array(cs)\n",
    "    countings = np.zeros(len(votings[0]))\n",
    "    for vote in votings:\n",
    "        score = len(votings[0])\n",
    "        for rank in vote:\n",
    "            index = 0\n",
    "            for candidate in candidates:\n",
    "                if(rank == candidate):\n",
    "                    countings[index] += score\n",
    "                    break\n",
    "                index += 1\n",
    "            score -= 1\n",
    "    result = list(zip(candidates,countings))\n",
    "    result.sort(key=lambda x:x[1], reverse = True)\n",
    "    return [x for (x,y) in result]"
   ]
  },
  {
   "cell_type": "markdown",
   "metadata": {},
   "source": [
    "Test:"
   ]
  },
  {
   "cell_type": "code",
   "execution_count": 12,
   "metadata": {},
   "outputs": [
    {
     "name": "stdout",
     "output_type": "stream",
     "text": [
      "[['B' 'A' 'C' 'D' 'E']\n",
      " ['C' 'B' 'A' 'D' 'E']\n",
      " ['D' 'B' 'C' 'A' 'E']\n",
      " ['E' 'B' 'C' 'D' 'A']\n",
      " ['A' 'B' 'C' 'D' 'E']]\n",
      "['B', 'C', 'A', 'D', 'E']\n"
     ]
    }
   ],
   "source": [
    "all_votes = np.concatenate((estimated_opponent_votes,honest_vote.reshape((1,5))),axis=0)\n",
    "estimated_honest_result = get_result(all_votes)\n",
    "print(all_votes)\n",
    "print(estimated_honest_result)"
   ]
  },
  {
   "cell_type": "markdown",
   "metadata": {},
   "source": [
    "### 2. calculate a strategic vote"
   ]
  },
  {
   "cell_type": "markdown",
   "metadata": {},
   "source": [
    "Method:"
   ]
  },
  {
   "cell_type": "code",
   "execution_count": null,
   "metadata": {},
   "outputs": [],
   "source": []
  },
  {
   "cell_type": "markdown",
   "metadata": {},
   "source": [
    "Test:"
   ]
  },
  {
   "cell_type": "code",
   "execution_count": 13,
   "metadata": {},
   "outputs": [],
   "source": [
    "strategic_vote = np.array([\"B\",\"A\",\"C\",\"D\",\"E\"])"
   ]
  },
  {
   "cell_type": "markdown",
   "metadata": {},
   "source": [
    "### 3. calculate the risk of a strategic vote"
   ]
  },
  {
   "cell_type": "markdown",
   "metadata": {},
   "source": [
    "Approach:"
   ]
  },
  {
   "cell_type": "markdown",
   "metadata": {},
   "source": [
    "1. determine loss of happiness if strategic voting became result\n",
    "2. multiply this loss with the number of assumptions under which the strategy makes sense"
   ]
  },
  {
   "cell_type": "markdown",
   "metadata": {},
   "source": [
    "Method:"
   ]
  },
  {
   "cell_type": "code",
   "execution_count": 32,
   "metadata": {},
   "outputs": [],
   "source": [
    "def get_risk (strategic_vote : np.array, honest_vote : np.array, estimated_honest_outcome : np.array, estimated_opponent_votes : np.array):\n",
    "    #estimated_strategic_outcome = get_result(np.concatenate((estimated_opponent_votes,honest_vote.reshape((1,5))),axis=0))\n",
    "    #honest_happiness = func(estimated_honest_outcome,honest_vote)\n",
    "    return func(translate_to_int_array(strategic_vote,strategic_vote),translate_to_int_array(honest_vote,strategic_vote),0.9)"
   ]
  },
  {
   "cell_type": "markdown",
   "metadata": {},
   "source": [
    "Test:"
   ]
  },
  {
   "cell_type": "code",
   "execution_count": 33,
   "metadata": {},
   "outputs": [
    {
     "name": "stdout",
     "output_type": "stream",
     "text": [
      "['B' 'A' 'C' 'D' 'E']\n",
      "['A' 'B' 'C' 'D' 'E']\n",
      "0.6495870903701048\n"
     ]
    }
   ],
   "source": [
    "print(strategic_vote)\n",
    "print(honest_vote)\n",
    "print(get_risk(strategic_vote,honest_vote,estimated_honest_result,estimated_opponent_votes))"
   ]
  }
 ],
 "metadata": {
  "interpreter": {
   "hash": "b6670665619bd644eaf1755dad0b3377e8027ce8c5e759f9489e30198297d070"
  },
  "kernelspec": {
   "display_name": "Python 3.9.7 64-bit (windows store)",
   "name": "python3"
  },
  "language_info": {
   "codemirror_mode": {
    "name": "ipython",
    "version": 3
   },
   "file_extension": ".py",
   "mimetype": "text/x-python",
   "name": "python",
   "nbconvert_exporter": "python",
   "pygments_lexer": "ipython3",
   "version": "3.9.7"
  },
  "orig_nbformat": 4
 },
 "nbformat": 4,
 "nbformat_minor": 2
}
