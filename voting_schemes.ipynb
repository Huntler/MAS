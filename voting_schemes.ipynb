{
 "cells": [
  {
   "cell_type": "code",
   "execution_count": null,
   "id": "da8d19fb-6e6e-4880-baf2-6d21d7148776",
   "metadata": {},
   "outputs": [],
   "source": []
  },
  {
   "cell_type": "markdown",
   "id": "6a0ebaaa-679c-45fd-ad35-f87d3fa00911",
   "metadata": {},
   "source": [
    "# Voting Schemes"
   ]
  },
  {
   "cell_type": "markdown",
   "id": "1ad9f119-909e-4fa1-9f5c-db5b2e57bdbf",
   "metadata": {},
   "source": [
    "In this project, four different voting schemes will be analysed using the TVA:"
   ]
  },
  {
   "cell_type": "code",
   "execution_count": null,
   "id": "b450af4f-ee10-406a-8330-4f4bf7f3b280",
   "metadata": {},
   "outputs": [],
   "source": [
    "import numpy as np\n",
    "from abc import ABC, abstractmethod\n",
    "\n",
    "np.random.seed(0)"
   ]
  },
  {
   "cell_type": "markdown",
   "id": "9e3fa84a-aa40-435c-938a-d24d69b45295",
   "metadata": {},
   "source": [
    "Importing our happiness function and a nice printer for it."
   ]
  },
  {
   "cell_type": "code",
   "execution_count": null,
   "id": "8ece0fb3-cdb0-44d1-811b-79b652eb98ff",
   "metadata": {},
   "outputs": [],
   "source": [
    "# our happiness function in python\n",
    "def happiness(i: np.array, j: np.array, s: float=0.9) -> float:\n",
    "    m = len(i)\n",
    "    s1 = np.power([s for l in range(m)], np.power(range(m), 2))\n",
    "    s2 = np.power([s for l in range(m)], np.power(m - np.array(range(m)), 2))\n",
    "    d = np.abs(np.subtract(j, i))\n",
    "    h_hat = np.sum(d * (s1 + s2), axis=1) / m\n",
    "    return np.exp(-h_hat)"
   ]
  },
  {
   "cell_type": "code",
   "execution_count": null,
   "id": "01084dab-398e-408a-aa0f-10b72df3fc90",
   "metadata": {},
   "outputs": [],
   "source": [
    "def print_happiness(scheme, i, j):\n",
    "    e_i = scheme._encode(i)\n",
    "    e_j = scheme._encode(j)\n",
    "    arr_happiness = happiness(e_i, e_j)\n",
    "    mean_happiness = np.mean(arr_happiness)\n",
    "    print(f\"Mean happiness of our agents using this voting scheme: {np.round(mean_happiness * 100, 2)}%\")\n",
    "    \n",
    "    for i, val in enumerate(arr_happiness):\n",
    "        print(f\"Agent {i+1} is {np.round(val * 100, 2)}% happy.\")"
   ]
  },
  {
   "cell_type": "markdown",
   "id": "6f855fd1-5e16-4f3c-b328-a56e02791402",
   "metadata": {},
   "source": [
    "Defining a parent class for any scheme we will implement later."
   ]
  },
  {
   "cell_type": "code",
   "execution_count": null,
   "id": "232eb25f-c452-4274-9da6-8face601df72",
   "metadata": {},
   "outputs": [],
   "source": [
    "class VotingScheme(ABC):\n",
    "    def __init__(self, mapping=None):\n",
    "        self._mapping = np.asarray(mapping)\n",
    "        \n",
    "    @abstractmethod\n",
    "    def compute_res(self, preferences)->list:\n",
    "        raise NotImplemented\n",
    "        \n",
    "    def _encode(self, ranking: np.array) -> np.array:\n",
    "        preferences = ranking.copy()\n",
    "        \n",
    "        d = {self._mapping[n]: n for n in range(self._mapping.shape[0])}\n",
    "        for mapping in self._mapping:\n",
    "            preferences = np.where(preferences!=mapping, preferences, d[mapping])\n",
    "        \n",
    "        return preferences.astype(int)\n",
    "\n",
    "    def _decode(self, ranking: np.array) -> np.array:\n",
    "        return self._mapping[ranking]"
   ]
  },
  {
   "cell_type": "markdown",
   "id": "ff0f7de8-88a2-40bd-9a93-480c36434099",
   "metadata": {},
   "source": [
    "'Test' our base class."
   ]
  },
  {
   "cell_type": "code",
   "execution_count": null,
   "id": "bf723548-5257-4f09-8d75-4cb9e199e2b2",
   "metadata": {},
   "outputs": [],
   "source": [
    "class TestScheme(VotingScheme):\n",
    "    def compute_res(self, p):\n",
    "        pass"
   ]
  },
  {
   "cell_type": "code",
   "execution_count": null,
   "id": "2e330c1d-35fc-4713-8998-1fd7d6c08fb3",
   "metadata": {},
   "outputs": [
    {
     "data": {
      "text/plain": [
       "array([[0, 1, 2, 3],\n",
       "       [2, 3, 0, 1]])"
      ]
     },
     "execution_count": 6,
     "metadata": {},
     "output_type": "execute_result"
    }
   ],
   "source": [
    "preferences = np.array([\n",
    "    [\"Paul\", \"Peter\", \"Pia\", \"Patricia\"],\n",
    "    [\"Pia\", \"Patricia\", \"Paul\", \"Peter\"]\n",
    "])\n",
    "\n",
    "scheme = TestScheme(mapping=[\"Paul\", \"Peter\", \"Pia\", \"Patricia\"])\n",
    "encoded = scheme._encode(preferences)\n",
    "encoded"
   ]
  },
  {
   "cell_type": "code",
   "execution_count": null,
   "id": "24f2a216-c5be-4b7a-8990-ba13a7a2f35f",
   "metadata": {},
   "outputs": [
    {
     "data": {
      "text/plain": [
       "array([['Paul', 'Peter', 'Pia', 'Patricia'],\n",
       "       ['Pia', 'Patricia', 'Paul', 'Peter']], dtype='<U8')"
      ]
     },
     "execution_count": 7,
     "metadata": {},
     "output_type": "execute_result"
    }
   ],
   "source": [
    "scheme._decode(encoded)"
   ]
  },
  {
   "cell_type": "markdown",
   "id": "f06e3c13-1a39-4092-88c0-6bc3dda2e413",
   "metadata": {},
   "source": [
    "## 1. Voting for one"
   ]
  },
  {
   "cell_type": "markdown",
   "id": "fe35acc7-f04a-4083-ba75-0cb514019303",
   "metadata": {},
   "source": [
    "### Definition"
   ]
  },
  {
   "cell_type": "markdown",
   "id": "1954bb69-06f0-4c60-bd69-dfc81704372c",
   "metadata": {},
   "source": [
    "Voters can vote for one candidate. The candidate with the most votes wins."
   ]
  },
  {
   "cell_type": "markdown",
   "id": "02e47720-e92d-4c0d-9a05-25dbf76b6082",
   "metadata": {},
   "source": [
    "### Voting Vector"
   ]
  },
  {
   "cell_type": "markdown",
   "id": "9f9fa254-9916-4e4f-8dfe-9413ac2b50b8",
   "metadata": {},
   "source": [
    "\\{1, 0, ..., 0\\}"
   ]
  },
  {
   "cell_type": "markdown",
   "id": "3a266fad-2eb0-4295-807c-da3fdcf9ec4c",
   "metadata": {},
   "source": [
    "### Implementation"
   ]
  },
  {
   "cell_type": "code",
   "execution_count": null,
   "id": "8ed91a5b-8ff3-4f24-aab4-116853659984",
   "metadata": {},
   "outputs": [],
   "source": [
    "class VotingForOne(VotingScheme):\n",
    "    def compute_res(self, preferences: np.array):\n",
    "        # get the voted candidates and how often they were voted\n",
    "        (unique, counts) = np.unique(preferences[:, 0], return_counts=True)\n",
    "        frequencies = np.asarray((unique, counts)).T\n",
    "                \n",
    "        max_vote = max(counts)\n",
    "        counts = [max_vote - int(l) for l in counts]\n",
    "        \n",
    "        frequencies = [l for l in zip(unique, counts)]\n",
    "        frequencies = np.array(frequencies, dtype=np.dtype([('x', object), ('y', int)])).T\n",
    "        \n",
    "        # sort those candidates based on the voting count\n",
    "        # if two candidates have the same counting, then sort by name\n",
    "        sorted_freqs = frequencies[np.argsort(frequencies, order=('y', 'x'))]\n",
    "        sorted_freqs = [l[0] for l in sorted_freqs]\n",
    "\n",
    "        # if there are some candidates without any votes, then append them to the end of the ranking\n",
    "        sorted_freqs = np.hstack((sorted_freqs, np.setxor1d(sorted_freqs, self._mapping)))\n",
    "        \n",
    "        return sorted_freqs\n",
    "        "
   ]
  },
  {
   "cell_type": "code",
   "execution_count": null,
   "id": "d2c95d49-c114-4161-b5b8-763818034326",
   "metadata": {},
   "outputs": [],
   "source": [
    "# this voting scheme only utilizes the first column of our preferences matrix\n",
    "# so basically: preferences[:, 0]\n",
    "preferences = np.array([\n",
    "    [\"A\", \"B\", \"C\", \"D\"],\n",
    "    [\"D\", \"A\", \"C\", \"B\"],\n",
    "    [\"C\", \"A\", \"B\", \"D\"],\n",
    "    [\"A\", \"C\", \"D\", \"B\"]\n",
    "])"
   ]
  },
  {
   "cell_type": "code",
   "execution_count": null,
   "id": "3e21e786-103e-4c48-a232-197697386bdc",
   "metadata": {},
   "outputs": [
    {
     "data": {
      "text/plain": [
       "array(['A', 'C', 'D', 'B'], dtype='<U1')"
      ]
     },
     "execution_count": 10,
     "metadata": {},
     "output_type": "execute_result"
    }
   ],
   "source": [
    "scheme = VotingForOne(mapping=[\"A\", \"B\", \"C\", \"D\"])\n",
    "outcome = scheme.compute_res(preferences)\n",
    "outcome"
   ]
  },
  {
   "cell_type": "code",
   "execution_count": null,
   "id": "fc343589-efcf-439a-b3da-50275f1f22cb",
   "metadata": {},
   "outputs": [
    {
     "name": "stdout",
     "output_type": "stream",
     "text": [
      "Mean happiness of our agents using this voting scheme: 37.73%\n",
      "Agent 1 is 27.43% happy.\n",
      "Agent 2 is 15.56% happy.\n",
      "Agent 3 is 7.92% happy.\n",
      "Agent 4 is 100.0% happy.\n"
     ]
    }
   ],
   "source": [
    "print_happiness(scheme, outcome, preferences)"
   ]
  },
  {
   "cell_type": "markdown",
   "id": "5ca34f33-e06a-4cc4-a8c8-185edbeb97e1",
   "metadata": {},
   "source": [
    "## 2. Voting for two"
   ]
  },
  {
   "cell_type": "markdown",
   "id": "bee25d9e-89d4-442b-ba22-b39eca490b2a",
   "metadata": {},
   "source": [
    "### Definition"
   ]
  },
  {
   "cell_type": "markdown",
   "id": "54167ab7-6145-4375-acc2-01e8bb14777a",
   "metadata": {},
   "source": [
    "Voters can vote for two candidates. The two candidates with the most votes win."
   ]
  },
  {
   "cell_type": "markdown",
   "id": "5342d568-863e-4fd6-a5ae-88d7235b942e",
   "metadata": {},
   "source": [
    "### Voting Vector"
   ]
  },
  {
   "cell_type": "markdown",
   "id": "ecaa9491-9df3-48df-819a-b919640ef5d6",
   "metadata": {},
   "source": [
    "\\{1, 1, 0, ..., 0\\}"
   ]
  },
  {
   "cell_type": "markdown",
   "id": "6791949a-e1b3-4827-82b6-8f75f60c5be8",
   "metadata": {},
   "source": [
    "### Implementation"
   ]
  },
  {
   "cell_type": "code",
   "execution_count": null,
   "id": "794ee9bd-cd0d-4cd5-ac0e-dabf941ed1c6",
   "metadata": {},
   "outputs": [],
   "source": [
    "class VotingForTwo(VotingScheme):\n",
    "    def compute_res(self, preferences: np.array):\n",
    "        # get the voted candidates and how often they were voted\n",
    "        (unique, counts) = np.unique(preferences[:, :2], return_counts=True)\n",
    "        frequencies = np.asarray((unique, counts)).T\n",
    "                \n",
    "        max_vote = max(counts)\n",
    "        counts = [max_vote - int(l) for l in counts]\n",
    "        \n",
    "        frequencies = [l for l in zip(unique, counts)]\n",
    "        frequencies = np.array(frequencies, dtype=np.dtype([('x', object), ('y', int)])).T\n",
    "        \n",
    "        # sort those candidates based on the voting count\n",
    "        # if two candidates have the same counting, then sort by name\n",
    "        sorted_freqs = frequencies[np.argsort(frequencies, order=('y', 'x'))]\n",
    "        sorted_freqs = [l[0] for l in sorted_freqs]\n",
    "\n",
    "        # if there are some candidates without any votes, then append them to the end of the ranking\n",
    "        sorted_freqs = np.hstack((sorted_freqs, np.setxor1d(sorted_freqs, self._mapping)))\n",
    "        \n",
    "        return sorted_freqs\n",
    "        "
   ]
  },
  {
   "cell_type": "code",
   "execution_count": null,
   "id": "ea37b782-5e0e-4f71-a406-39b405c76dbd",
   "metadata": {},
   "outputs": [
    {
     "name": "stdout",
     "output_type": "stream",
     "text": [
      "[('A', 0) ('C', 2) ('B', 3) ('D', 3)]\n"
     ]
    },
    {
     "data": {
      "text/plain": [
       "array(['A', 'C', 'B', 'D'], dtype='<U1')"
      ]
     },
     "execution_count": 13,
     "metadata": {},
     "output_type": "execute_result"
    }
   ],
   "source": [
    "scheme = VotingForTwo(mapping=[\"A\", \"B\", \"C\", \"D\"])\n",
    "outcome = scheme.compute_res(preferences)\n",
    "outcome"
   ]
  },
  {
   "cell_type": "code",
   "execution_count": null,
   "id": "b5274b83-1aea-4bd9-91fa-ec6522a04b3c",
   "metadata": {},
   "outputs": [
    {
     "name": "stdout",
     "output_type": "stream",
     "text": [
      "Mean happiness of our agents using this voting scheme: 29.17%\n",
      "Agent 1 is 52.21% happy.\n",
      "Agent 2 is 8.17% happy.\n",
      "Agent 3 is 29.04% happy.\n",
      "Agent 4 is 27.26% happy.\n"
     ]
    }
   ],
   "source": [
    "print_happiness(scheme, outcome, preferences)"
   ]
  },
  {
   "cell_type": "markdown",
   "id": "27b3cfff-c481-421d-bc65-7535a65ef3aa",
   "metadata": {},
   "source": [
    "## 3. Anti-plurality voting (veto)"
   ]
  },
  {
   "cell_type": "markdown",
   "id": "cbb57d9a-9a51-497e-a093-f8a0ea78fa1f",
   "metadata": {},
   "source": [
    "### Definition"
   ]
  },
  {
   "cell_type": "markdown",
   "id": "db1ff802-87ff-45ea-bcf4-80ea1d81263e",
   "metadata": {},
   "source": [
    "In anti-plurality voting, the individual voter decides on a certain option it does not want to elect, thus votes for everyone but that one."
   ]
  },
  {
   "cell_type": "markdown",
   "id": "bac8b320-5f06-4bb1-be1c-aa361e97c685",
   "metadata": {},
   "source": [
    "### Voting Vector"
   ]
  },
  {
   "cell_type": "markdown",
   "id": "fdf4f06d-edfb-44a7-b23c-ff1b4385c7c4",
   "metadata": {},
   "source": [
    "\\{1,1,...,1,0\\}"
   ]
  },
  {
   "cell_type": "markdown",
   "id": "23c61695-6579-41a7-8915-878b54e08c5a",
   "metadata": {},
   "source": [
    "## Implementation"
   ]
  },
  {
   "cell_type": "code",
   "execution_count": null,
   "id": "f94d8dce-ffa9-4d7b-bd42-071e114541a8",
   "metadata": {},
   "outputs": [],
   "source": [
    "class AntiPluralityVoting(VotingScheme):\n",
    "    def compute_res(self, preferences: np.array):\n",
    "        # get the voted candidates and how often they were voted\n",
    "        (unique, counts) = np.unique(preferences[:, :-1], return_counts=True)\n",
    "        frequencies = np.asarray((unique, counts)).T\n",
    "                \n",
    "        max_vote = max(counts)\n",
    "        counts = [max_vote - int(l) for l in counts]\n",
    "        \n",
    "        frequencies = [l for l in zip(unique, counts)]\n",
    "        frequencies = np.array(frequencies, dtype=np.dtype([('x', object), ('y', int)])).T\n",
    "        \n",
    "        # sort those candidates based on the voting count\n",
    "        # if two candidates have the same counting, then sort by name\n",
    "        sorted_freqs = frequencies[np.argsort(frequencies, order=('y', 'x'))]\n",
    "        sorted_freqs = [l[0] for l in sorted_freqs]\n",
    "\n",
    "        # if there are some candidates without any votes, then append them to the end of the ranking\n",
    "        sorted_freqs = np.hstack((sorted_freqs, np.setxor1d(sorted_freqs, self._mapping)))\n",
    "        \n",
    "        return sorted_freqs"
   ]
  },
  {
   "cell_type": "code",
   "execution_count": null,
   "id": "1400c9b4-1e9c-4806-a7c6-93ce194b8091",
   "metadata": {},
   "outputs": [
    {
     "name": "stdout",
     "output_type": "stream",
     "text": [
      "[('A', 0) ('C', 2) ('B', 3) ('D', 3)]\n"
     ]
    },
    {
     "data": {
      "text/plain": [
       "array(['A', 'C', 'B', 'D'], dtype='<U1')"
      ]
     },
     "execution_count": 16,
     "metadata": {},
     "output_type": "execute_result"
    }
   ],
   "source": [
    "scheme = VotingForTwo(mapping=[\"A\", \"B\", \"C\", \"D\"])\n",
    "outcome = scheme.compute_res(preferences)\n",
    "outcome"
   ]
  },
  {
   "cell_type": "code",
   "execution_count": null,
   "id": "890d75b4-d60a-4f65-8971-f93e84e2aeb6",
   "metadata": {},
   "outputs": [
    {
     "name": "stdout",
     "output_type": "stream",
     "text": [
      "Mean happiness of our agents using this voting scheme: 29.17%\n",
      "Agent 1 is 52.21% happy.\n",
      "Agent 2 is 8.17% happy.\n",
      "Agent 3 is 29.04% happy.\n",
      "Agent 4 is 27.26% happy.\n"
     ]
    }
   ],
   "source": [
    "print_happiness(scheme, outcome, preferences)"
   ]
  },
  {
   "cell_type": "markdown",
   "id": "f8335124-0f84-416c-9bc3-1ea3b8e1954b",
   "metadata": {},
   "source": [
    "## 4. Borda voting"
   ]
  },
  {
   "cell_type": "markdown",
   "id": "c4242b92-f06a-49c0-9881-f1ee4c86ca5f",
   "metadata": {},
   "source": [
    "### Definition"
   ]
  },
  {
   "cell_type": "markdown",
   "id": "2c999811-b8a2-4d9a-854c-c53da2a34eb4",
   "metadata": {},
   "source": [
    "Borda voting requires the voters to submit a full ranking of all candidates (= preference list)."
   ]
  },
  {
   "cell_type": "markdown",
   "id": "3c3817d1-8606-4c10-a0b1-92006fcf9893",
   "metadata": {},
   "source": [
    "### Voting Vector"
   ]
  },
  {
   "cell_type": "markdown",
   "id": "fd194615-1da0-44c2-979b-77a234256c24",
   "metadata": {},
   "source": [
    "\\{𝑚−1,𝑚−2,...,1,0\\} (where m is the number of alternatives)"
   ]
  },
  {
   "cell_type": "markdown",
   "id": "6d195e16-d8da-4212-aa43-ac55e051f904",
   "metadata": {},
   "source": [
    "### Implementation"
   ]
  },
  {
   "cell_type": "code",
   "execution_count": null,
   "id": "b91927f4-9471-4e22-b3b7-47165b5bbc00",
   "metadata": {},
   "outputs": [],
   "source": [
    "# same as in risk_function.ipynb"
   ]
  },
  {
   "cell_type": "code",
   "execution_count": null,
   "id": "4f05bbbc-65d9-4141-a54b-89552f5b4cf1",
   "metadata": {},
   "outputs": [],
   "source": [
    "class BordaVoting(VotingScheme):\n",
    "    def compute_res(self, preferences: np.array):\n",
    "        m = preferences.shape[-1]\n",
    "        d = {}\n",
    "        for i in range(1, m):\n",
    "            # get the voted candidates and how often they were voted\n",
    "            (unique, counts) = np.unique(preferences[:, i], return_counts=True)\n",
    "            for j, c in enumerate(unique):\n",
    "                d[c] = d.get(c, 0) + counts[j] * (m - i)\n",
    "                \n",
    "        max_vote = max(d.values())\n",
    "        unique = list(d.keys())\n",
    "        counts = [max_vote - int(l) for l in d.values()]\n",
    "        \n",
    "        frequencies = [l for l in zip(unique, counts)]\n",
    "        frequencies = np.array(frequencies, dtype=np.dtype([('x', object), ('y', int)])).T\n",
    "        \n",
    "        # sort those candidates based on the voting count\n",
    "        # if two candidates have the same counting, then sort by name\n",
    "        sorted_freqs = frequencies[np.argsort(frequencies, order=('y', 'x'))]\n",
    "        sorted_freqs = [l[0] for l in sorted_freqs]\n",
    "\n",
    "        # if there are some candidates without any votes, then append them to the end of the ranking\n",
    "        sorted_freqs = np.hstack((sorted_freqs, np.setxor1d(sorted_freqs, self._mapping)))\n",
    "        \n",
    "        return sorted_freqs"
   ]
  },
  {
   "cell_type": "code",
   "execution_count": null,
   "id": "2416a7c2-662b-4558-a52b-530308cb946a",
   "metadata": {},
   "outputs": [
    {
     "data": {
      "text/plain": [
       "array(['B', 'C', 'A', 'D'], dtype='<U1')"
      ]
     },
     "execution_count": 20,
     "metadata": {},
     "output_type": "execute_result"
    }
   ],
   "source": [
    "scheme = BordaVoting(mapping=[\"A\", \"B\", \"C\", \"D\"])\n",
    "outcome = scheme.compute_res(preferences)\n",
    "outcome"
   ]
  },
  {
   "cell_type": "code",
   "execution_count": null,
   "id": "53866e05-69be-47bc-936f-88e421285623",
   "metadata": {},
   "outputs": [
    {
     "name": "stdout",
     "output_type": "stream",
     "text": [
      "Mean happiness of our agents using this voting scheme: 19.65%\n",
      "Agent 1 is 27.96% happy.\n",
      "Agent 2 is 7.92% happy.\n",
      "Agent 3 is 28.14% happy.\n",
      "Agent 4 is 14.6% happy.\n"
     ]
    }
   ],
   "source": [
    "print_happiness(scheme, outcome, preferences)"
   ]
  },
  {
   "cell_type": "code",
   "execution_count": null,
   "id": "82cc2b27-83ed-4351-8c07-f7da422e5ffe",
   "metadata": {},
   "outputs": [],
   "source": []
  }
 ],
 "metadata": {
  "kernelspec": {
   "display_name": "Python 3 (ipykernel)",
   "language": "python",
   "name": "python3"
  },
  "language_info": {
   "codemirror_mode": {
    "name": "ipython",
    "version": 3
   },
   "file_extension": ".py",
   "mimetype": "text/x-python",
   "name": "python",
   "nbconvert_exporter": "python",
   "pygments_lexer": "ipython3",
   "version": "3.9.7"
  }
 },
 "nbformat": 4,
 "nbformat_minor": 5
}
