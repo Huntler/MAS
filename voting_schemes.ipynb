{
 "cells": [
  {
   "cell_type": "markdown",
   "id": "6a0ebaaa-679c-45fd-ad35-f87d3fa00911",
   "metadata": {},
   "source": [
    "# Voting Schemes"
   ]
  },
  {
   "cell_type": "markdown",
   "id": "1ad9f119-909e-4fa1-9f5c-db5b2e57bdbf",
   "metadata": {},
   "source": [
    "In this project, four different voting schemes will be analysed using the TVA:"
   ]
  },
  {
   "cell_type": "code",
   "execution_count": 4,
   "id": "b450af4f-ee10-406a-8330-4f4bf7f3b280",
   "metadata": {},
   "outputs": [],
   "source": [
    "import numpy as np\n",
    "from abc import ABC, abstractmethod"
   ]
  },
  {
   "cell_type": "code",
   "execution_count": 5,
   "id": "232eb25f-c452-4274-9da6-8face601df72",
   "metadata": {},
   "outputs": [],
   "source": [
    "class VotingScheme(ABC):\n",
    "    def __init__(self, mapping=None):\n",
    "        # TODO: generate if None\n",
    "        self.mapping = mapping\n",
    "    @abstractmethod\n",
    "    def compute_res(self, candidate_list, preferences)->list:\n",
    "        raise NotImplemented\n",
    "        \n",
    "    def _translate_to_int_array(self, ranking, mapping):\n",
    "        numbers = []\n",
    "        for element in ranking:\n",
    "            index = 1\n",
    "            for m in mapping:\n",
    "                if(element == m):\n",
    "                    numbers.append(index)\n",
    "                    break\n",
    "                index += 1\n",
    "        return np.asarray(numbers)\n",
    "\n",
    "    def _translate_to_content_array(self, ranking, mapping):\n",
    "        values = []\n",
    "        for element in ranking:\n",
    "            values.append(mapping[element-1])\n",
    "        return np.asarray(values)"
   ]
  },
  {
   "cell_type": "markdown",
   "id": "f06e3c13-1a39-4092-88c0-6bc3dda2e413",
   "metadata": {},
   "source": [
    "## 1. Voting for one"
   ]
  },
  {
   "cell_type": "markdown",
   "id": "fe35acc7-f04a-4083-ba75-0cb514019303",
   "metadata": {},
   "source": [
    "### Definition"
   ]
  },
  {
   "cell_type": "markdown",
   "id": "1954bb69-06f0-4c60-bd69-dfc81704372c",
   "metadata": {},
   "source": [
    "Voters can vote for one candidate. The candidate with the most votes wins."
   ]
  },
  {
   "cell_type": "markdown",
   "id": "02e47720-e92d-4c0d-9a05-25dbf76b6082",
   "metadata": {},
   "source": [
    "### Voting Vector"
   ]
  },
  {
   "cell_type": "markdown",
   "id": "9f9fa254-9916-4e4f-8dfe-9413ac2b50b8",
   "metadata": {},
   "source": [
    "\\{1, 0, ..., 0\\}"
   ]
  },
  {
   "cell_type": "markdown",
   "id": "3a266fad-2eb0-4295-807c-da3fdcf9ec4c",
   "metadata": {
    "tags": []
   },
   "source": [
    "### Implementation"
   ]
  },
  {
   "cell_type": "code",
   "execution_count": 9,
   "id": "8ed91a5b-8ff3-4f24-aab4-116853659984",
   "metadata": {},
   "outputs": [],
   "source": [
    "class VotingForOne(VotingScheme):\n",
    "    def compute_res(candidate_list, preferences):\n",
    "        votes = self._translate_to_int_array(preferences)\n",
    "        indexes = np.argmax(votes)\n",
    "        c = candidate_list[indexes]\n",
    "        (unique, counts) = np.unique(c, return_counts=True)\n",
    "        frequencies = np.asarray((unique, counts), dtypes=[('candidate', int), ('votes', int)]).T\n",
    "        sorted_freqs = np.sort(frequencies, order='votes')\n",
    "        return self._translate_to_content_array(sorted_freqs[:, 0].T)\n",
    "        "
   ]
  },
  {
   "cell_type": "markdown",
   "id": "5ca34f33-e06a-4cc4-a8c8-185edbeb97e1",
   "metadata": {},
   "source": [
    "## 2. Voting for two"
   ]
  },
  {
   "cell_type": "markdown",
   "id": "bee25d9e-89d4-442b-ba22-b39eca490b2a",
   "metadata": {},
   "source": [
    "### Definition"
   ]
  },
  {
   "cell_type": "markdown",
   "id": "54167ab7-6145-4375-acc2-01e8bb14777a",
   "metadata": {},
   "source": [
    "Voters can vote for two candidates. The two candidates with the most votes win."
   ]
  },
  {
   "cell_type": "markdown",
   "id": "5342d568-863e-4fd6-a5ae-88d7235b942e",
   "metadata": {},
   "source": [
    "### Voting Vector"
   ]
  },
  {
   "cell_type": "markdown",
   "id": "ecaa9491-9df3-48df-819a-b919640ef5d6",
   "metadata": {
    "tags": []
   },
   "source": [
    "\\{1, 1, 0, ..., 0\\}"
   ]
  },
  {
   "cell_type": "markdown",
   "id": "6791949a-e1b3-4827-82b6-8f75f60c5be8",
   "metadata": {},
   "source": [
    "### Implementation"
   ]
  },
  {
   "cell_type": "code",
   "execution_count": 8,
   "id": "37b69cba-89a1-4561-958e-dbfb3c72b31f",
   "metadata": {},
   "outputs": [],
   "source": [
    "class VotingForTwo(VotingScheme):\n",
    "    def compute_res(self, candidate_list, preferences)->list:\n",
    "        res = defaultdict(int)\n",
    "        for i in range(2):\n",
    "            for j in range(preferences.shape[1]):\n",
    "                res[preferences[i, j]]+=1\n",
    "        sorted_res=[x[0] for x in sorted(res.items(), key=lambda x: x[1], reverse=True)]\n",
    "        return sorted_res"
   ]
  },
  {
   "cell_type": "markdown",
   "id": "27b3cfff-c481-421d-bc65-7535a65ef3aa",
   "metadata": {},
   "source": [
    "## 3. Anti-plurality voting (veto)"
   ]
  },
  {
   "cell_type": "markdown",
   "id": "cbb57d9a-9a51-497e-a093-f8a0ea78fa1f",
   "metadata": {},
   "source": [
    "### Definition"
   ]
  },
  {
   "cell_type": "markdown",
   "id": "db1ff802-87ff-45ea-bcf4-80ea1d81263e",
   "metadata": {},
   "source": [
    "In anti-plurality voting, the individual voter decides on a certain option it does not want to elect, thus votes for everyone but that one."
   ]
  },
  {
   "cell_type": "markdown",
   "id": "bac8b320-5f06-4bb1-be1c-aa361e97c685",
   "metadata": {},
   "source": [
    "### Voting Vector"
   ]
  },
  {
   "cell_type": "markdown",
   "id": "fdf4f06d-edfb-44a7-b23c-ff1b4385c7c4",
   "metadata": {},
   "source": [
    "\\{1,1,...,0\\}"
   ]
  },
  {
   "cell_type": "markdown",
   "id": "23c61695-6579-41a7-8915-878b54e08c5a",
   "metadata": {},
   "source": [
    "### Implementation"
   ]
  },
  {
   "cell_type": "code",
   "execution_count": 10,
   "id": "f94d8dce-ffa9-4d7b-bd42-071e114541a8",
   "metadata": {},
   "outputs": [],
   "source": [
    "class AntiPluralityVoting(VotingScheme):\n",
    "    def compute_res(self, candidate_list, preferences)->list:\n",
    "        res = defaultdict(int)\n",
    "        for i in range(preferences.shape[0]-1):\n",
    "            for j in range(preferences.shape[1]):\n",
    "                res[preferences[i, j]]+=1\n",
    "        sorted_res=[x[0] for x in sorted(res.items(), key=lambda x: x[1], reverse=True)]\n",
    "        return sorted_res"
   ]
  },
  {
   "cell_type": "markdown",
   "id": "f8335124-0f84-416c-9bc3-1ea3b8e1954b",
   "metadata": {},
   "source": [
    "## 4. Borda voting"
   ]
  },
  {
   "cell_type": "markdown",
   "id": "c4242b92-f06a-49c0-9881-f1ee4c86ca5f",
   "metadata": {},
   "source": [
    "### Definition"
   ]
  },
  {
   "cell_type": "markdown",
   "id": "2c999811-b8a2-4d9a-854c-c53da2a34eb4",
   "metadata": {},
   "source": [
    "Borda voting requires the voters to submit a full ranking of all candidates (= preference list)."
   ]
  },
  {
   "cell_type": "markdown",
   "id": "3c3817d1-8606-4c10-a0b1-92006fcf9893",
   "metadata": {},
   "source": [
    "### Voting Vector"
   ]
  },
  {
   "cell_type": "markdown",
   "id": "fd194615-1da0-44c2-979b-77a234256c24",
   "metadata": {},
   "source": [
    "\\{𝑚−1,𝑚−2,...,1,0\\} (where m is the number of alternatives)"
   ]
  },
  {
   "cell_type": "markdown",
   "id": "6d195e16-d8da-4212-aa43-ac55e051f904",
   "metadata": {},
   "source": [
    "### Implementation"
   ]
  },
  {
   "cell_type": "code",
   "execution_count": 6,
   "id": "b91927f4-9471-4e22-b3b7-47165b5bbc00",
   "metadata": {},
   "outputs": [],
   "source": [
    "# same as in risk_function.ipynb"
   ]
  }
 ],
 "metadata": {
  "kernelspec": {
   "display_name": "Python 3 (ipykernel)",
   "language": "python",
   "name": "python3"
  },
  "language_info": {
   "codemirror_mode": {
    "name": "ipython",
    "version": 3
   },
   "file_extension": ".py",
   "mimetype": "text/x-python",
   "name": "python",
   "nbconvert_exporter": "python",
   "pygments_lexer": "ipython3",
   "version": "3.9.7"
  }
 },
 "nbformat": 4,
 "nbformat_minor": 5
}
