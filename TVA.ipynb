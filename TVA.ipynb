{
 "cells": [
  {
   "cell_type": "code",
   "execution_count": 1,
   "id": "ade94ce8-748f-4a26-9b12-dfa2545f8de9",
   "metadata": {
    "trusted": false
   },
   "outputs": [],
   "source": [
    "import numpy as np\n",
    "from typing import Set, List, Dict, Tuple\n",
    "from abc import ABC"
   ]
  },
  {
   "cell_type": "code",
   "execution_count": 2,
   "id": "911b35de-cbac-4994-bb8f-a19a2381f29a",
   "metadata": {
    "trusted": false
   },
   "outputs": [],
   "source": [
    "class VotingSchema(ABC):\n",
    "    pass\n",
    "\n",
    "\n",
    "class PluralityVoting(VotingSchema):\n",
    "    pass\n",
    "\n",
    "\n",
    "class VotingForTwo(VotingSchema):\n",
    "    pass\n",
    "\n",
    "\n",
    "class AntiPluralityVoting(VotingSchema):\n",
    "    pass\n",
    "\n",
    "\n",
    "class BordaVoting(VotingSchema):\n",
    "    pass"
   ]
  },
  {
   "cell_type": "code",
   "execution_count": 3,
   "id": "f4ba9588-7036-459d-92ae-901303ac36ef",
   "metadata": {
    "trusted": false
   },
   "outputs": [],
   "source": [
    "class TVA:\n",
    "    def analyze(self, schema: VotingSchema, situation: np.ndarray):\n",
    "        pass\n",
    "\n",
    "    def individual_voter_happiness(self) -> float:\n",
    "        pass\n",
    "\n",
    "    def voter_happiness(self) -> float:\n",
    "        pass\n",
    "\n",
    "    def strategic_voting_options(self) -> Dict[str, Tuple[List, None, float, float, float, float]]:\n",
    "        pass\n",
    "\n",
    "    def risk(self):\n",
    "        pass"
   ]
  }
 ],
 "metadata": {
  "kernelspec": {
   "display_name": "Python 3 (ipykernel)",
   "language": "python",
   "name": "python3"
  },
  "language_info": {
   "codemirror_mode": {
    "name": "ipython",
    "version": 3
   },
   "file_extension": ".py",
   "mimetype": "text/x-python",
   "name": "python",
   "nbconvert_exporter": "python",
   "pygments_lexer": "ipython3",
   "version": "3.9.7"
  }
 },
 "nbformat": 4,
 "nbformat_minor": 5
}